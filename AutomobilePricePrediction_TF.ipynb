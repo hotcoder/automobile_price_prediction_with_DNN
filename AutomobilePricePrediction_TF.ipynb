{
 "cells": [
  {
   "cell_type": "code",
   "execution_count": 1,
   "metadata": {},
   "outputs": [],
   "source": [
    "from __future__ import absolute_import\n",
    "from __future__ import division\n",
    "from __future__ import print_function"
   ]
  },
  {
   "cell_type": "code",
   "execution_count": 2,
   "metadata": {},
   "outputs": [],
   "source": [
    "import os\n",
    "import collections\n",
    "import itertools"
   ]
  },
  {
   "cell_type": "code",
   "execution_count": 3,
   "metadata": {},
   "outputs": [
    {
     "name": "stderr",
     "output_type": "stream",
     "text": [
      "/Users/z002krv/anaconda3/envs/TensorFlow_RB/lib/python3.6/site-packages/h5py/__init__.py:36: FutureWarning: Conversion of the second argument of issubdtype from `float` to `np.floating` is deprecated. In future, it will be treated as `np.float64 == np.dtype(float).type`.\n",
      "  from ._conv import register_converters as _register_converters\n"
     ]
    }
   ],
   "source": [
    "import numpy as np\n",
    "import pandas as pd\n",
    "import tensorflow as tf"
   ]
  },
  {
   "cell_type": "code",
   "execution_count": 4,
   "metadata": {},
   "outputs": [],
   "source": [
    "from six.moves import urllib"
   ]
  },
  {
   "cell_type": "code",
   "execution_count": 5,
   "metadata": {},
   "outputs": [
    {
     "name": "stdout",
     "output_type": "stream",
     "text": [
      "1.14.3\n",
      "0.23.0\n",
      "1.9.0\n"
     ]
    }
   ],
   "source": [
    "print(np.__version__)\n",
    "print(pd.__version__)\n",
    "print(tf.__version__)"
   ]
  },
  {
   "cell_type": "code",
   "execution_count": 6,
   "metadata": {},
   "outputs": [],
   "source": [
    "URL_PATH = 'https://archive.ics.uci.edu/ml/machine-learning-databases/autos/imports-85.data'\n",
    "DOWNLOAD_FILENAME = 'automobiles.csv'\n",
    "def download_data():\n",
    "    if not os.path.exists(DOWNLOAD_FILENAME):\n",
    "        filename , _ = urllib.request.urlretrieve(URL_PATH,DOWNLOAD_FILENAME)\n",
    "    print(\"File Downloaded from \",URL_PATH)\n",
    "    print(\"File names on local \",DOWNLOAD_FILENAME)"
   ]
  },
  {
   "cell_type": "code",
   "execution_count": 7,
   "metadata": {},
   "outputs": [
    {
     "name": "stdout",
     "output_type": "stream",
     "text": [
      "File Downloaded from  https://archive.ics.uci.edu/ml/machine-learning-databases/autos/imports-85.data\n",
      "File names on local  automobiles.csv\n"
     ]
    }
   ],
   "source": [
    "download_data()"
   ]
  },
  {
   "cell_type": "code",
   "execution_count": 8,
   "metadata": {},
   "outputs": [],
   "source": [
    "COLUMN_NAMES_TYPES = collections.OrderedDict([(\"symboling\",int),\n",
    "(\"normalized-losses\",float),\n",
    "(\"make\",str),\n",
    "(\"fuel-type\",str),\n",
    "(\"aspiration\",str),\n",
    "(\"num-of-doors\",str),\n",
    "(\"body-style\",str),\n",
    "(\"drive-wheels\",str),\n",
    "(\"engine-location\",str),\n",
    "(\"wheel-base\",float),\n",
    "(\"length\",float),\n",
    "(\"width\",float),\n",
    "(\"height\",float),\n",
    "(\"curb-weight\",float),\n",
    "(\"engine-type\",str),\n",
    "(\"num-of-cylinders\",str),\n",
    "(\"engine-size\",float),\n",
    "(\"fuel-system\",str),\n",
    "(\"bore\",float),\n",
    "(\"stroke\",float),\n",
    "(\"compression-ratio\",float),\n",
    "(\"horsepower\",float),\n",
    "(\"peak-rpm\",float),\n",
    "(\"city-mpg\",float),\n",
    "(\"highway-mpg\",float),\n",
    "(\"price\",float)])"
   ]
  },
  {
   "cell_type": "code",
   "execution_count": 9,
   "metadata": {},
   "outputs": [],
   "source": [
    "df = pd.read_csv(DOWNLOAD_FILENAME, names=COLUMN_NAMES_TYPES.keys(), dtype=COLUMN_NAMES_TYPES, na_values='?')"
   ]
  },
  {
   "cell_type": "code",
   "execution_count": 10,
   "metadata": {},
   "outputs": [
    {
     "data": {
      "text/html": [
       "<div>\n",
       "<style scoped>\n",
       "    .dataframe tbody tr th:only-of-type {\n",
       "        vertical-align: middle;\n",
       "    }\n",
       "\n",
       "    .dataframe tbody tr th {\n",
       "        vertical-align: top;\n",
       "    }\n",
       "\n",
       "    .dataframe thead th {\n",
       "        text-align: right;\n",
       "    }\n",
       "</style>\n",
       "<table border=\"1\" class=\"dataframe\">\n",
       "  <thead>\n",
       "    <tr style=\"text-align: right;\">\n",
       "      <th></th>\n",
       "      <th>symboling</th>\n",
       "      <th>normalized-losses</th>\n",
       "      <th>make</th>\n",
       "      <th>fuel-type</th>\n",
       "      <th>aspiration</th>\n",
       "      <th>num-of-doors</th>\n",
       "      <th>body-style</th>\n",
       "      <th>drive-wheels</th>\n",
       "      <th>engine-location</th>\n",
       "      <th>wheel-base</th>\n",
       "      <th>...</th>\n",
       "      <th>engine-size</th>\n",
       "      <th>fuel-system</th>\n",
       "      <th>bore</th>\n",
       "      <th>stroke</th>\n",
       "      <th>compression-ratio</th>\n",
       "      <th>horsepower</th>\n",
       "      <th>peak-rpm</th>\n",
       "      <th>city-mpg</th>\n",
       "      <th>highway-mpg</th>\n",
       "      <th>price</th>\n",
       "    </tr>\n",
       "  </thead>\n",
       "  <tbody>\n",
       "    <tr>\n",
       "      <th>0</th>\n",
       "      <td>3</td>\n",
       "      <td>NaN</td>\n",
       "      <td>alfa-romero</td>\n",
       "      <td>gas</td>\n",
       "      <td>std</td>\n",
       "      <td>two</td>\n",
       "      <td>convertible</td>\n",
       "      <td>rwd</td>\n",
       "      <td>front</td>\n",
       "      <td>88.6</td>\n",
       "      <td>...</td>\n",
       "      <td>130.0</td>\n",
       "      <td>mpfi</td>\n",
       "      <td>3.47</td>\n",
       "      <td>2.68</td>\n",
       "      <td>9.0</td>\n",
       "      <td>111.0</td>\n",
       "      <td>5000.0</td>\n",
       "      <td>21.0</td>\n",
       "      <td>27.0</td>\n",
       "      <td>13495.0</td>\n",
       "    </tr>\n",
       "    <tr>\n",
       "      <th>1</th>\n",
       "      <td>3</td>\n",
       "      <td>NaN</td>\n",
       "      <td>alfa-romero</td>\n",
       "      <td>gas</td>\n",
       "      <td>std</td>\n",
       "      <td>two</td>\n",
       "      <td>convertible</td>\n",
       "      <td>rwd</td>\n",
       "      <td>front</td>\n",
       "      <td>88.6</td>\n",
       "      <td>...</td>\n",
       "      <td>130.0</td>\n",
       "      <td>mpfi</td>\n",
       "      <td>3.47</td>\n",
       "      <td>2.68</td>\n",
       "      <td>9.0</td>\n",
       "      <td>111.0</td>\n",
       "      <td>5000.0</td>\n",
       "      <td>21.0</td>\n",
       "      <td>27.0</td>\n",
       "      <td>16500.0</td>\n",
       "    </tr>\n",
       "    <tr>\n",
       "      <th>2</th>\n",
       "      <td>1</td>\n",
       "      <td>NaN</td>\n",
       "      <td>alfa-romero</td>\n",
       "      <td>gas</td>\n",
       "      <td>std</td>\n",
       "      <td>two</td>\n",
       "      <td>hatchback</td>\n",
       "      <td>rwd</td>\n",
       "      <td>front</td>\n",
       "      <td>94.5</td>\n",
       "      <td>...</td>\n",
       "      <td>152.0</td>\n",
       "      <td>mpfi</td>\n",
       "      <td>2.68</td>\n",
       "      <td>3.47</td>\n",
       "      <td>9.0</td>\n",
       "      <td>154.0</td>\n",
       "      <td>5000.0</td>\n",
       "      <td>19.0</td>\n",
       "      <td>26.0</td>\n",
       "      <td>16500.0</td>\n",
       "    </tr>\n",
       "    <tr>\n",
       "      <th>3</th>\n",
       "      <td>2</td>\n",
       "      <td>164.0</td>\n",
       "      <td>audi</td>\n",
       "      <td>gas</td>\n",
       "      <td>std</td>\n",
       "      <td>four</td>\n",
       "      <td>sedan</td>\n",
       "      <td>fwd</td>\n",
       "      <td>front</td>\n",
       "      <td>99.8</td>\n",
       "      <td>...</td>\n",
       "      <td>109.0</td>\n",
       "      <td>mpfi</td>\n",
       "      <td>3.19</td>\n",
       "      <td>3.40</td>\n",
       "      <td>10.0</td>\n",
       "      <td>102.0</td>\n",
       "      <td>5500.0</td>\n",
       "      <td>24.0</td>\n",
       "      <td>30.0</td>\n",
       "      <td>13950.0</td>\n",
       "    </tr>\n",
       "    <tr>\n",
       "      <th>4</th>\n",
       "      <td>2</td>\n",
       "      <td>164.0</td>\n",
       "      <td>audi</td>\n",
       "      <td>gas</td>\n",
       "      <td>std</td>\n",
       "      <td>four</td>\n",
       "      <td>sedan</td>\n",
       "      <td>4wd</td>\n",
       "      <td>front</td>\n",
       "      <td>99.4</td>\n",
       "      <td>...</td>\n",
       "      <td>136.0</td>\n",
       "      <td>mpfi</td>\n",
       "      <td>3.19</td>\n",
       "      <td>3.40</td>\n",
       "      <td>8.0</td>\n",
       "      <td>115.0</td>\n",
       "      <td>5500.0</td>\n",
       "      <td>18.0</td>\n",
       "      <td>22.0</td>\n",
       "      <td>17450.0</td>\n",
       "    </tr>\n",
       "  </tbody>\n",
       "</table>\n",
       "<p>5 rows × 26 columns</p>\n",
       "</div>"
      ],
      "text/plain": [
       "   symboling  normalized-losses         make fuel-type aspiration  \\\n",
       "0          3                NaN  alfa-romero       gas        std   \n",
       "1          3                NaN  alfa-romero       gas        std   \n",
       "2          1                NaN  alfa-romero       gas        std   \n",
       "3          2              164.0         audi       gas        std   \n",
       "4          2              164.0         audi       gas        std   \n",
       "\n",
       "  num-of-doors   body-style drive-wheels engine-location  wheel-base   ...     \\\n",
       "0          two  convertible          rwd           front        88.6   ...      \n",
       "1          two  convertible          rwd           front        88.6   ...      \n",
       "2          two    hatchback          rwd           front        94.5   ...      \n",
       "3         four        sedan          fwd           front        99.8   ...      \n",
       "4         four        sedan          4wd           front        99.4   ...      \n",
       "\n",
       "   engine-size  fuel-system  bore  stroke compression-ratio horsepower  \\\n",
       "0        130.0         mpfi  3.47    2.68               9.0      111.0   \n",
       "1        130.0         mpfi  3.47    2.68               9.0      111.0   \n",
       "2        152.0         mpfi  2.68    3.47               9.0      154.0   \n",
       "3        109.0         mpfi  3.19    3.40              10.0      102.0   \n",
       "4        136.0         mpfi  3.19    3.40               8.0      115.0   \n",
       "\n",
       "   peak-rpm city-mpg  highway-mpg    price  \n",
       "0    5000.0     21.0         27.0  13495.0  \n",
       "1    5000.0     21.0         27.0  16500.0  \n",
       "2    5000.0     19.0         26.0  16500.0  \n",
       "3    5500.0     24.0         30.0  13950.0  \n",
       "4    5500.0     18.0         22.0  17450.0  \n",
       "\n",
       "[5 rows x 26 columns]"
      ]
     },
     "execution_count": 10,
     "metadata": {},
     "output_type": "execute_result"
    }
   ],
   "source": [
    "df.head()"
   ]
  },
  {
   "cell_type": "code",
   "execution_count": 11,
   "metadata": {},
   "outputs": [
    {
     "data": {
      "text/plain": [
       "(205, 26)"
      ]
     },
     "execution_count": 11,
     "metadata": {},
     "output_type": "execute_result"
    }
   ],
   "source": [
    "df.shape"
   ]
  },
  {
   "cell_type": "code",
   "execution_count": 12,
   "metadata": {},
   "outputs": [
    {
     "data": {
      "text/plain": [
       "symboling            205\n",
       "normalized-losses    164\n",
       "make                 205\n",
       "fuel-type            205\n",
       "aspiration           205\n",
       "num-of-doors         203\n",
       "body-style           205\n",
       "drive-wheels         205\n",
       "engine-location      205\n",
       "wheel-base           205\n",
       "length               205\n",
       "width                205\n",
       "height               205\n",
       "curb-weight          205\n",
       "engine-type          205\n",
       "num-of-cylinders     205\n",
       "engine-size          205\n",
       "fuel-system          205\n",
       "bore                 201\n",
       "stroke               201\n",
       "compression-ratio    205\n",
       "horsepower           203\n",
       "peak-rpm             203\n",
       "city-mpg             205\n",
       "highway-mpg          205\n",
       "price                201\n",
       "dtype: int64"
      ]
     },
     "execution_count": 12,
     "metadata": {},
     "output_type": "execute_result"
    }
   ],
   "source": [
    "df.count()"
   ]
  },
  {
   "cell_type": "code",
   "execution_count": 13,
   "metadata": {},
   "outputs": [],
   "source": [
    "df = df.dropna()"
   ]
  },
  {
   "cell_type": "code",
   "execution_count": 14,
   "metadata": {},
   "outputs": [
    {
     "data": {
      "text/plain": [
       "symboling            159\n",
       "normalized-losses    159\n",
       "make                 159\n",
       "fuel-type            159\n",
       "aspiration           159\n",
       "num-of-doors         159\n",
       "body-style           159\n",
       "drive-wheels         159\n",
       "engine-location      159\n",
       "wheel-base           159\n",
       "length               159\n",
       "width                159\n",
       "height               159\n",
       "curb-weight          159\n",
       "engine-type          159\n",
       "num-of-cylinders     159\n",
       "engine-size          159\n",
       "fuel-system          159\n",
       "bore                 159\n",
       "stroke               159\n",
       "compression-ratio    159\n",
       "horsepower           159\n",
       "peak-rpm             159\n",
       "city-mpg             159\n",
       "highway-mpg          159\n",
       "price                159\n",
       "dtype: int64"
      ]
     },
     "execution_count": 14,
     "metadata": {},
     "output_type": "execute_result"
    }
   ],
   "source": [
    "df.count()"
   ]
  },
  {
   "cell_type": "code",
   "execution_count": 15,
   "metadata": {},
   "outputs": [],
   "source": [
    "features_of_importance = ['make','fuel-type','aspiration', 'num-of-doors','body-style','drive-wheels',\"curb-weight\",'engine-location','engine-type','num-of-cylinders','fuel-system',\"engine-size\",\"horsepower\",\"peak-rpm\",\"city-mpg\",\"highway-mpg\",\"price\"]"
   ]
  },
  {
   "cell_type": "code",
   "execution_count": 16,
   "metadata": {},
   "outputs": [],
   "source": [
    "df = df[features_of_importance]"
   ]
  },
  {
   "cell_type": "code",
   "execution_count": 17,
   "metadata": {},
   "outputs": [
    {
     "data": {
      "text/html": [
       "<div>\n",
       "<style scoped>\n",
       "    .dataframe tbody tr th:only-of-type {\n",
       "        vertical-align: middle;\n",
       "    }\n",
       "\n",
       "    .dataframe tbody tr th {\n",
       "        vertical-align: top;\n",
       "    }\n",
       "\n",
       "    .dataframe thead th {\n",
       "        text-align: right;\n",
       "    }\n",
       "</style>\n",
       "<table border=\"1\" class=\"dataframe\">\n",
       "  <thead>\n",
       "    <tr style=\"text-align: right;\">\n",
       "      <th></th>\n",
       "      <th>make</th>\n",
       "      <th>fuel-type</th>\n",
       "      <th>aspiration</th>\n",
       "      <th>num-of-doors</th>\n",
       "      <th>body-style</th>\n",
       "      <th>drive-wheels</th>\n",
       "      <th>curb-weight</th>\n",
       "      <th>engine-location</th>\n",
       "      <th>engine-type</th>\n",
       "      <th>num-of-cylinders</th>\n",
       "      <th>fuel-system</th>\n",
       "      <th>engine-size</th>\n",
       "      <th>horsepower</th>\n",
       "      <th>peak-rpm</th>\n",
       "      <th>city-mpg</th>\n",
       "      <th>highway-mpg</th>\n",
       "      <th>price</th>\n",
       "    </tr>\n",
       "  </thead>\n",
       "  <tbody>\n",
       "    <tr>\n",
       "      <th>3</th>\n",
       "      <td>audi</td>\n",
       "      <td>gas</td>\n",
       "      <td>std</td>\n",
       "      <td>four</td>\n",
       "      <td>sedan</td>\n",
       "      <td>fwd</td>\n",
       "      <td>2337.0</td>\n",
       "      <td>front</td>\n",
       "      <td>ohc</td>\n",
       "      <td>four</td>\n",
       "      <td>mpfi</td>\n",
       "      <td>109.0</td>\n",
       "      <td>102.0</td>\n",
       "      <td>5500.0</td>\n",
       "      <td>24.0</td>\n",
       "      <td>30.0</td>\n",
       "      <td>13950.0</td>\n",
       "    </tr>\n",
       "    <tr>\n",
       "      <th>4</th>\n",
       "      <td>audi</td>\n",
       "      <td>gas</td>\n",
       "      <td>std</td>\n",
       "      <td>four</td>\n",
       "      <td>sedan</td>\n",
       "      <td>4wd</td>\n",
       "      <td>2824.0</td>\n",
       "      <td>front</td>\n",
       "      <td>ohc</td>\n",
       "      <td>five</td>\n",
       "      <td>mpfi</td>\n",
       "      <td>136.0</td>\n",
       "      <td>115.0</td>\n",
       "      <td>5500.0</td>\n",
       "      <td>18.0</td>\n",
       "      <td>22.0</td>\n",
       "      <td>17450.0</td>\n",
       "    </tr>\n",
       "    <tr>\n",
       "      <th>6</th>\n",
       "      <td>audi</td>\n",
       "      <td>gas</td>\n",
       "      <td>std</td>\n",
       "      <td>four</td>\n",
       "      <td>sedan</td>\n",
       "      <td>fwd</td>\n",
       "      <td>2844.0</td>\n",
       "      <td>front</td>\n",
       "      <td>ohc</td>\n",
       "      <td>five</td>\n",
       "      <td>mpfi</td>\n",
       "      <td>136.0</td>\n",
       "      <td>110.0</td>\n",
       "      <td>5500.0</td>\n",
       "      <td>19.0</td>\n",
       "      <td>25.0</td>\n",
       "      <td>17710.0</td>\n",
       "    </tr>\n",
       "    <tr>\n",
       "      <th>8</th>\n",
       "      <td>audi</td>\n",
       "      <td>gas</td>\n",
       "      <td>turbo</td>\n",
       "      <td>four</td>\n",
       "      <td>sedan</td>\n",
       "      <td>fwd</td>\n",
       "      <td>3086.0</td>\n",
       "      <td>front</td>\n",
       "      <td>ohc</td>\n",
       "      <td>five</td>\n",
       "      <td>mpfi</td>\n",
       "      <td>131.0</td>\n",
       "      <td>140.0</td>\n",
       "      <td>5500.0</td>\n",
       "      <td>17.0</td>\n",
       "      <td>20.0</td>\n",
       "      <td>23875.0</td>\n",
       "    </tr>\n",
       "    <tr>\n",
       "      <th>10</th>\n",
       "      <td>bmw</td>\n",
       "      <td>gas</td>\n",
       "      <td>std</td>\n",
       "      <td>two</td>\n",
       "      <td>sedan</td>\n",
       "      <td>rwd</td>\n",
       "      <td>2395.0</td>\n",
       "      <td>front</td>\n",
       "      <td>ohc</td>\n",
       "      <td>four</td>\n",
       "      <td>mpfi</td>\n",
       "      <td>108.0</td>\n",
       "      <td>101.0</td>\n",
       "      <td>5800.0</td>\n",
       "      <td>23.0</td>\n",
       "      <td>29.0</td>\n",
       "      <td>16430.0</td>\n",
       "    </tr>\n",
       "  </tbody>\n",
       "</table>\n",
       "</div>"
      ],
      "text/plain": [
       "    make fuel-type aspiration num-of-doors body-style drive-wheels  \\\n",
       "3   audi       gas        std         four      sedan          fwd   \n",
       "4   audi       gas        std         four      sedan          4wd   \n",
       "6   audi       gas        std         four      sedan          fwd   \n",
       "8   audi       gas      turbo         four      sedan          fwd   \n",
       "10   bmw       gas        std          two      sedan          rwd   \n",
       "\n",
       "    curb-weight engine-location engine-type num-of-cylinders fuel-system  \\\n",
       "3        2337.0           front         ohc             four        mpfi   \n",
       "4        2824.0           front         ohc             five        mpfi   \n",
       "6        2844.0           front         ohc             five        mpfi   \n",
       "8        3086.0           front         ohc             five        mpfi   \n",
       "10       2395.0           front         ohc             four        mpfi   \n",
       "\n",
       "    engine-size  horsepower  peak-rpm  city-mpg  highway-mpg    price  \n",
       "3         109.0       102.0    5500.0      24.0         30.0  13950.0  \n",
       "4         136.0       115.0    5500.0      18.0         22.0  17450.0  \n",
       "6         136.0       110.0    5500.0      19.0         25.0  17710.0  \n",
       "8         131.0       140.0    5500.0      17.0         20.0  23875.0  \n",
       "10        108.0       101.0    5800.0      23.0         29.0  16430.0  "
      ]
     },
     "execution_count": 17,
     "metadata": {},
     "output_type": "execute_result"
    }
   ],
   "source": [
    "df.head()"
   ]
  },
  {
   "cell_type": "code",
   "execution_count": 18,
   "metadata": {},
   "outputs": [],
   "source": [
    "TARGET_LABEL = 'price'\n",
    "\n",
    "def prepare_train_test_predicted_data():\n",
    "    \n",
    "    \n",
    "    np.random.seed(None)\n",
    "    \n",
    "    X_train = df.sample(frac=0.8,random_state=\n",
    "                       None)\n",
    "    \n",
    "    X_test = df.drop(X_train.index)\n",
    "    \n",
    "    X_predict = X_test.sample(frac=0.2,random_state=None)\n",
    "    \n",
    "    Y_train = X_train.pop(TARGET_LABEL)\n",
    "    Y_test = X_test.pop(TARGET_LABEL)\n",
    "    Y_predict = X_predict.pop(TARGET_LABEL)\n",
    "    \n",
    "    return (X_train,Y_train) ,(X_test,Y_test) ,(X_predict,Y_predict)"
   ]
  },
  {
   "cell_type": "code",
   "execution_count": 19,
   "metadata": {},
   "outputs": [],
   "source": [
    "(X_train,Y_train) ,(X_test,Y_test) ,(X_predict,Y_predict) = prepare_train_test_predicted_data()"
   ]
  },
  {
   "cell_type": "code",
   "execution_count": 20,
   "metadata": {},
   "outputs": [
    {
     "data": {
      "text/html": [
       "<div>\n",
       "<style scoped>\n",
       "    .dataframe tbody tr th:only-of-type {\n",
       "        vertical-align: middle;\n",
       "    }\n",
       "\n",
       "    .dataframe tbody tr th {\n",
       "        vertical-align: top;\n",
       "    }\n",
       "\n",
       "    .dataframe thead th {\n",
       "        text-align: right;\n",
       "    }\n",
       "</style>\n",
       "<table border=\"1\" class=\"dataframe\">\n",
       "  <thead>\n",
       "    <tr style=\"text-align: right;\">\n",
       "      <th></th>\n",
       "      <th>make</th>\n",
       "      <th>fuel-type</th>\n",
       "      <th>aspiration</th>\n",
       "      <th>num-of-doors</th>\n",
       "      <th>body-style</th>\n",
       "      <th>drive-wheels</th>\n",
       "      <th>curb-weight</th>\n",
       "      <th>engine-location</th>\n",
       "      <th>engine-type</th>\n",
       "      <th>num-of-cylinders</th>\n",
       "      <th>fuel-system</th>\n",
       "      <th>engine-size</th>\n",
       "      <th>horsepower</th>\n",
       "      <th>peak-rpm</th>\n",
       "      <th>city-mpg</th>\n",
       "      <th>highway-mpg</th>\n",
       "    </tr>\n",
       "  </thead>\n",
       "  <tbody>\n",
       "    <tr>\n",
       "      <th>103</th>\n",
       "      <td>nissan</td>\n",
       "      <td>gas</td>\n",
       "      <td>std</td>\n",
       "      <td>four</td>\n",
       "      <td>sedan</td>\n",
       "      <td>fwd</td>\n",
       "      <td>3060.0</td>\n",
       "      <td>front</td>\n",
       "      <td>ohcv</td>\n",
       "      <td>six</td>\n",
       "      <td>mpfi</td>\n",
       "      <td>181.0</td>\n",
       "      <td>152.0</td>\n",
       "      <td>5200.0</td>\n",
       "      <td>19.0</td>\n",
       "      <td>25.0</td>\n",
       "    </tr>\n",
       "    <tr>\n",
       "      <th>21</th>\n",
       "      <td>dodge</td>\n",
       "      <td>gas</td>\n",
       "      <td>std</td>\n",
       "      <td>two</td>\n",
       "      <td>hatchback</td>\n",
       "      <td>fwd</td>\n",
       "      <td>1876.0</td>\n",
       "      <td>front</td>\n",
       "      <td>ohc</td>\n",
       "      <td>four</td>\n",
       "      <td>2bbl</td>\n",
       "      <td>90.0</td>\n",
       "      <td>68.0</td>\n",
       "      <td>5500.0</td>\n",
       "      <td>37.0</td>\n",
       "      <td>41.0</td>\n",
       "    </tr>\n",
       "    <tr>\n",
       "      <th>77</th>\n",
       "      <td>mitsubishi</td>\n",
       "      <td>gas</td>\n",
       "      <td>std</td>\n",
       "      <td>two</td>\n",
       "      <td>hatchback</td>\n",
       "      <td>fwd</td>\n",
       "      <td>1944.0</td>\n",
       "      <td>front</td>\n",
       "      <td>ohc</td>\n",
       "      <td>four</td>\n",
       "      <td>2bbl</td>\n",
       "      <td>92.0</td>\n",
       "      <td>68.0</td>\n",
       "      <td>5500.0</td>\n",
       "      <td>31.0</td>\n",
       "      <td>38.0</td>\n",
       "    </tr>\n",
       "    <tr>\n",
       "      <th>70</th>\n",
       "      <td>mercedes-benz</td>\n",
       "      <td>diesel</td>\n",
       "      <td>turbo</td>\n",
       "      <td>four</td>\n",
       "      <td>sedan</td>\n",
       "      <td>rwd</td>\n",
       "      <td>3770.0</td>\n",
       "      <td>front</td>\n",
       "      <td>ohc</td>\n",
       "      <td>five</td>\n",
       "      <td>idi</td>\n",
       "      <td>183.0</td>\n",
       "      <td>123.0</td>\n",
       "      <td>4350.0</td>\n",
       "      <td>22.0</td>\n",
       "      <td>25.0</td>\n",
       "    </tr>\n",
       "    <tr>\n",
       "      <th>196</th>\n",
       "      <td>volvo</td>\n",
       "      <td>gas</td>\n",
       "      <td>std</td>\n",
       "      <td>four</td>\n",
       "      <td>sedan</td>\n",
       "      <td>rwd</td>\n",
       "      <td>2935.0</td>\n",
       "      <td>front</td>\n",
       "      <td>ohc</td>\n",
       "      <td>four</td>\n",
       "      <td>mpfi</td>\n",
       "      <td>141.0</td>\n",
       "      <td>114.0</td>\n",
       "      <td>5400.0</td>\n",
       "      <td>24.0</td>\n",
       "      <td>28.0</td>\n",
       "    </tr>\n",
       "  </tbody>\n",
       "</table>\n",
       "</div>"
      ],
      "text/plain": [
       "              make fuel-type aspiration num-of-doors body-style drive-wheels  \\\n",
       "103         nissan       gas        std         four      sedan          fwd   \n",
       "21           dodge       gas        std          two  hatchback          fwd   \n",
       "77      mitsubishi       gas        std          two  hatchback          fwd   \n",
       "70   mercedes-benz    diesel      turbo         four      sedan          rwd   \n",
       "196          volvo       gas        std         four      sedan          rwd   \n",
       "\n",
       "     curb-weight engine-location engine-type num-of-cylinders fuel-system  \\\n",
       "103       3060.0           front        ohcv              six        mpfi   \n",
       "21        1876.0           front         ohc             four        2bbl   \n",
       "77        1944.0           front         ohc             four        2bbl   \n",
       "70        3770.0           front         ohc             five         idi   \n",
       "196       2935.0           front         ohc             four        mpfi   \n",
       "\n",
       "     engine-size  horsepower  peak-rpm  city-mpg  highway-mpg  \n",
       "103        181.0       152.0    5200.0      19.0         25.0  \n",
       "21          90.0        68.0    5500.0      37.0         41.0  \n",
       "77          92.0        68.0    5500.0      31.0         38.0  \n",
       "70         183.0       123.0    4350.0      22.0         25.0  \n",
       "196        141.0       114.0    5400.0      24.0         28.0  "
      ]
     },
     "execution_count": 20,
     "metadata": {},
     "output_type": "execute_result"
    }
   ],
   "source": [
    "X_train.head()"
   ]
  },
  {
   "cell_type": "code",
   "execution_count": 21,
   "metadata": {},
   "outputs": [
    {
     "data": {
      "text/plain": [
       "103    13499.0\n",
       "21      5572.0\n",
       "77      6189.0\n",
       "70     31600.0\n",
       "196    15985.0\n",
       "Name: price, dtype: float64"
      ]
     },
     "execution_count": 21,
     "metadata": {},
     "output_type": "execute_result"
    }
   ],
   "source": [
    "Y_train.head()"
   ]
  },
  {
   "cell_type": "code",
   "execution_count": 22,
   "metadata": {},
   "outputs": [],
   "source": [
    "PRICE_SCALING_FACTOR = 10000\n",
    "\n",
    "Y_train /= PRICE_SCALING_FACTOR\n",
    "Y_test /= PRICE_SCALING_FACTOR"
   ]
  },
  {
   "cell_type": "code",
   "execution_count": 23,
   "metadata": {},
   "outputs": [
    {
     "data": {
      "text/plain": [
       "array(['audi', 'bmw', 'chevrolet', 'dodge', 'honda', 'jaguar', 'mazda',\n",
       "       'mercedes-benz', 'mitsubishi', 'nissan', 'peugot', 'plymouth',\n",
       "       'porsche', 'saab', 'subaru', 'toyota', 'volkswagen', 'volvo'],\n",
       "      dtype=object)"
      ]
     },
     "execution_count": 23,
     "metadata": {},
     "output_type": "execute_result"
    }
   ],
   "source": [
    "df.make.unique()"
   ]
  },
  {
   "cell_type": "code",
   "execution_count": 24,
   "metadata": {},
   "outputs": [
    {
     "data": {
      "text/plain": [
       "array(['gas', 'diesel'], dtype=object)"
      ]
     },
     "execution_count": 24,
     "metadata": {},
     "output_type": "execute_result"
    }
   ],
   "source": [
    "df['fuel-type'].unique()"
   ]
  },
  {
   "cell_type": "code",
   "execution_count": 25,
   "metadata": {},
   "outputs": [
    {
     "data": {
      "text/plain": [
       "array(['std', 'turbo'], dtype=object)"
      ]
     },
     "execution_count": 25,
     "metadata": {},
     "output_type": "execute_result"
    }
   ],
   "source": [
    "df.aspiration.unique()"
   ]
  },
  {
   "cell_type": "code",
   "execution_count": 26,
   "metadata": {},
   "outputs": [
    {
     "data": {
      "text/plain": [
       "array(['four', 'two'], dtype=object)"
      ]
     },
     "execution_count": 26,
     "metadata": {},
     "output_type": "execute_result"
    }
   ],
   "source": [
    "df['num-of-doors'].unique()"
   ]
  },
  {
   "cell_type": "code",
   "execution_count": 27,
   "metadata": {},
   "outputs": [
    {
     "data": {
      "text/plain": [
       "array(['sedan', 'hatchback', 'wagon', 'hardtop', 'convertible'],\n",
       "      dtype=object)"
      ]
     },
     "execution_count": 27,
     "metadata": {},
     "output_type": "execute_result"
    }
   ],
   "source": [
    "df['body-style'].unique()"
   ]
  },
  {
   "cell_type": "code",
   "execution_count": 28,
   "metadata": {},
   "outputs": [
    {
     "data": {
      "text/plain": [
       "array(['fwd', '4wd', 'rwd'], dtype=object)"
      ]
     },
     "execution_count": 28,
     "metadata": {},
     "output_type": "execute_result"
    }
   ],
   "source": [
    "df['drive-wheels'].unique()"
   ]
  },
  {
   "cell_type": "code",
   "execution_count": 29,
   "metadata": {},
   "outputs": [
    {
     "data": {
      "text/plain": [
       "array(['ohc', 'l', 'dohc', 'ohcv', 'ohcf'], dtype=object)"
      ]
     },
     "execution_count": 29,
     "metadata": {},
     "output_type": "execute_result"
    }
   ],
   "source": [
    "df['engine-type'].unique()"
   ]
  },
  {
   "cell_type": "code",
   "execution_count": 30,
   "metadata": {},
   "outputs": [
    {
     "data": {
      "text/plain": [
       "array(['four', 'five', 'six', 'three', 'eight'], dtype=object)"
      ]
     },
     "execution_count": 30,
     "metadata": {},
     "output_type": "execute_result"
    }
   ],
   "source": [
    "df['num-of-cylinders'].unique()"
   ]
  },
  {
   "cell_type": "code",
   "execution_count": 31,
   "metadata": {},
   "outputs": [
    {
     "data": {
      "text/plain": [
       "array(['mpfi', '2bbl', 'mfi', '1bbl', 'idi', 'spdi'], dtype=object)"
      ]
     },
     "execution_count": 31,
     "metadata": {},
     "output_type": "execute_result"
    }
   ],
   "source": [
    "df['fuel-system'].unique()"
   ]
  },
  {
   "cell_type": "code",
   "execution_count": 32,
   "metadata": {},
   "outputs": [],
   "source": [
    "curb_weight  = tf.feature_column.numeric_column(\"curb-weight\")"
   ]
  },
  {
   "cell_type": "code",
   "execution_count": 33,
   "metadata": {},
   "outputs": [],
   "source": [
    "engine_size  = tf.feature_column.numeric_column(\"engine-size\")"
   ]
  },
  {
   "cell_type": "code",
   "execution_count": 34,
   "metadata": {},
   "outputs": [],
   "source": [
    "horsepower = tf.feature_column.numeric_column(\"horsepower\")"
   ]
  },
  {
   "cell_type": "code",
   "execution_count": 35,
   "metadata": {},
   "outputs": [],
   "source": [
    "peak_rpm = tf.feature_column.numeric_column(\"peak-rpm\")"
   ]
  },
  {
   "cell_type": "code",
   "execution_count": 36,
   "metadata": {},
   "outputs": [],
   "source": [
    "city_mpg = tf.feature_column.numeric_column(\"city-mpg\")"
   ]
  },
  {
   "cell_type": "code",
   "execution_count": 37,
   "metadata": {},
   "outputs": [],
   "source": [
    "highway_mpg = tf.feature_column.numeric_column(\"highway-mpg\")"
   ]
  },
  {
   "cell_type": "code",
   "execution_count": 38,
   "metadata": {},
   "outputs": [],
   "source": [
    "body_style = tf.feature_column.categorical_column_with_vocabulary_list(key=\"body-style\",vocabulary_list=df['body-style'].unique())"
   ]
  },
  {
   "cell_type": "code",
   "execution_count": 39,
   "metadata": {},
   "outputs": [],
   "source": [
    "fuel_type = tf.feature_column.categorical_column_with_vocabulary_list(key=\"fuel-type\",vocabulary_list=df['fuel-type'].unique())"
   ]
  },
  {
   "cell_type": "code",
   "execution_count": 40,
   "metadata": {},
   "outputs": [],
   "source": [
    "aspiration = tf.feature_column.categorical_column_with_vocabulary_list(key=\"aspiration\",vocabulary_list=df['aspiration'].unique())"
   ]
  },
  {
   "cell_type": "code",
   "execution_count": 41,
   "metadata": {},
   "outputs": [],
   "source": [
    "num_of_doors = tf.feature_column.categorical_column_with_vocabulary_list(key=\"num-of-doors\",vocabulary_list=df['num-of-doors'].unique())"
   ]
  },
  {
   "cell_type": "code",
   "execution_count": 42,
   "metadata": {},
   "outputs": [],
   "source": [
    "drive_wheels = tf.feature_column.categorical_column_with_vocabulary_list(key=\"drive-wheels\",vocabulary_list=df['drive-wheels'].unique())"
   ]
  },
  {
   "cell_type": "code",
   "execution_count": 43,
   "metadata": {},
   "outputs": [],
   "source": [
    "engine_type = tf.feature_column.categorical_column_with_vocabulary_list(key=\"engine-type\",vocabulary_list=df['engine-type'].unique())"
   ]
  },
  {
   "cell_type": "code",
   "execution_count": 44,
   "metadata": {},
   "outputs": [],
   "source": [
    "num_of_cylinders = tf.feature_column.categorical_column_with_vocabulary_list(key=\"num-of-cylinders\",vocabulary_list=df['num-of-cylinders'].unique())"
   ]
  },
  {
   "cell_type": "code",
   "execution_count": 45,
   "metadata": {},
   "outputs": [],
   "source": [
    "fuel_system = tf.feature_column.categorical_column_with_vocabulary_list(key=\"fuel-system\",vocabulary_list=df['fuel-system'].unique())"
   ]
  },
  {
   "cell_type": "code",
   "execution_count": 46,
   "metadata": {},
   "outputs": [],
   "source": [
    "make = tf.feature_column.categorical_column_with_hash_bucket(key='make',hash_bucket_size=50)"
   ]
  },
  {
   "cell_type": "code",
   "execution_count": 47,
   "metadata": {},
   "outputs": [],
   "source": [
    "feature_columns = [curb_weight,engine_size,horsepower,peak_rpm,city_mpg,highway_mpg,\n",
    "                  tf.feature_column.indicator_column(body_style),\n",
    "                  tf.feature_column.embedding_column(fuel_type,dimension=3),\n",
    "                  tf.feature_column.embedding_column(aspiration,dimension=3),\n",
    "                  tf.feature_column.embedding_column(num_of_cylinders,dimension=3),\n",
    "                  tf.feature_column.embedding_column(num_of_doors,dimension=3),\n",
    "                  tf.feature_column.embedding_column(drive_wheels,dimension=3),\n",
    "                  tf.feature_column.embedding_column(engine_type,dimension=3),\n",
    "                  tf.feature_column.embedding_column(fuel_system,dimension=3),\n",
    "                  \n",
    "                  tf.feature_column.embedding_column(make,dimension=4)]"
   ]
  },
  {
   "cell_type": "code",
   "execution_count": 48,
   "metadata": {},
   "outputs": [],
   "source": [
    "def input_dn(X_data,Y_data , num_epochs , shuffle):\n",
    "    return tf.estimator.inputs.pandas_input_fn(x=X_data,y=Y_data,batch_size=64,num_epochs=num_epochs,shuffle=shuffle)"
   ]
  },
  {
   "cell_type": "code",
   "execution_count": 49,
   "metadata": {},
   "outputs": [
    {
     "name": "stdout",
     "output_type": "stream",
     "text": [
      "INFO:tensorflow:Using default config.\n",
      "WARNING:tensorflow:Using temporary folder as model directory: /var/folders/nr/yyxxzlcj1gqfwgbp7mn9l610q3vvqq/T/tmp2ziygdh9\n",
      "INFO:tensorflow:Using config: {'_model_dir': '/var/folders/nr/yyxxzlcj1gqfwgbp7mn9l610q3vvqq/T/tmp2ziygdh9', '_tf_random_seed': None, '_save_summary_steps': 100, '_save_checkpoints_steps': None, '_save_checkpoints_secs': 600, '_session_config': None, '_keep_checkpoint_max': 5, '_keep_checkpoint_every_n_hours': 10000, '_log_step_count_steps': 100, '_train_distribute': None, '_device_fn': None, '_service': None, '_cluster_spec': <tensorflow.python.training.server_lib.ClusterSpec object at 0xb2fb46ba8>, '_task_type': 'worker', '_task_id': 0, '_global_id_in_cluster': 0, '_master': '', '_evaluation_master': '', '_is_chief': True, '_num_ps_replicas': 0, '_num_worker_replicas': 1}\n"
     ]
    }
   ],
   "source": [
    "model = tf.estimator.DNNRegressor(hidden_units=[20,20,20],feature_columns=feature_columns)"
   ]
  },
  {
   "cell_type": "code",
   "execution_count": 69,
   "metadata": {},
   "outputs": [
    {
     "name": "stdout",
     "output_type": "stream",
     "text": [
      "INFO:tensorflow:Calling model_fn.\n",
      "INFO:tensorflow:Done calling model_fn.\n",
      "INFO:tensorflow:Create CheckpointSaverHook.\n",
      "INFO:tensorflow:Graph was finalized.\n",
      "INFO:tensorflow:Restoring parameters from /var/folders/nr/yyxxzlcj1gqfwgbp7mn9l610q3vvqq/T/tmp2ziygdh9/model.ckpt-30000\n",
      "INFO:tensorflow:Running local_init_op.\n",
      "INFO:tensorflow:Done running local_init_op.\n",
      "INFO:tensorflow:Saving checkpoints for 30000 into /var/folders/nr/yyxxzlcj1gqfwgbp7mn9l610q3vvqq/T/tmp2ziygdh9/model.ckpt.\n",
      "INFO:tensorflow:loss = 2.0986538, step = 30001\n",
      "INFO:tensorflow:global_step/sec: 69.2084\n",
      "INFO:tensorflow:loss = 3.2428455, step = 30101 (1.446 sec)\n",
      "INFO:tensorflow:global_step/sec: 146.716\n",
      "INFO:tensorflow:loss = 7.1147375, step = 30201 (0.682 sec)\n",
      "INFO:tensorflow:global_step/sec: 146.092\n",
      "INFO:tensorflow:loss = 1.801501, step = 30301 (0.685 sec)\n",
      "INFO:tensorflow:global_step/sec: 138.548\n",
      "INFO:tensorflow:loss = 3.151345, step = 30401 (0.722 sec)\n",
      "INFO:tensorflow:global_step/sec: 148.66\n",
      "INFO:tensorflow:loss = 1.4418291, step = 30501 (0.675 sec)\n",
      "INFO:tensorflow:global_step/sec: 137.529\n",
      "INFO:tensorflow:loss = 3.4197083, step = 30601 (0.725 sec)\n",
      "INFO:tensorflow:global_step/sec: 131.506\n",
      "INFO:tensorflow:loss = 2.4840457, step = 30701 (0.761 sec)\n",
      "INFO:tensorflow:global_step/sec: 126.009\n",
      "INFO:tensorflow:loss = 2.7982945, step = 30801 (0.794 sec)\n",
      "INFO:tensorflow:global_step/sec: 120.558\n",
      "INFO:tensorflow:loss = 2.5183964, step = 30901 (0.830 sec)\n",
      "INFO:tensorflow:global_step/sec: 120.554\n",
      "INFO:tensorflow:loss = 2.9220483, step = 31001 (0.829 sec)\n",
      "INFO:tensorflow:global_step/sec: 119.94\n",
      "INFO:tensorflow:loss = 3.9230585, step = 31101 (0.834 sec)\n",
      "INFO:tensorflow:global_step/sec: 115.668\n",
      "INFO:tensorflow:loss = 1.7480778, step = 31201 (0.865 sec)\n",
      "INFO:tensorflow:global_step/sec: 116.495\n",
      "INFO:tensorflow:loss = 2.7561965, step = 31301 (0.858 sec)\n",
      "INFO:tensorflow:global_step/sec: 117.037\n",
      "INFO:tensorflow:loss = 2.7147758, step = 31401 (0.854 sec)\n",
      "INFO:tensorflow:global_step/sec: 109.18\n",
      "INFO:tensorflow:loss = 2.8443842, step = 31501 (0.916 sec)\n",
      "INFO:tensorflow:global_step/sec: 112.122\n",
      "INFO:tensorflow:loss = 1.8466905, step = 31601 (0.892 sec)\n",
      "INFO:tensorflow:global_step/sec: 108.704\n",
      "INFO:tensorflow:loss = 1.7512261, step = 31701 (0.920 sec)\n",
      "INFO:tensorflow:global_step/sec: 107.489\n",
      "INFO:tensorflow:loss = 3.1105678, step = 31801 (0.930 sec)\n",
      "INFO:tensorflow:global_step/sec: 107.46\n",
      "INFO:tensorflow:loss = 1.975673, step = 31901 (0.931 sec)\n",
      "INFO:tensorflow:global_step/sec: 107.587\n",
      "INFO:tensorflow:loss = 3.7858396, step = 32001 (0.930 sec)\n",
      "INFO:tensorflow:global_step/sec: 105.877\n",
      "INFO:tensorflow:loss = 3.3419204, step = 32101 (0.947 sec)\n",
      "INFO:tensorflow:global_step/sec: 102.369\n",
      "INFO:tensorflow:loss = 2.4311004, step = 32201 (0.977 sec)\n",
      "INFO:tensorflow:global_step/sec: 99.8728\n",
      "INFO:tensorflow:loss = 2.4693909, step = 32301 (1.003 sec)\n",
      "INFO:tensorflow:global_step/sec: 100.159\n",
      "INFO:tensorflow:loss = 1.6050973, step = 32401 (0.994 sec)\n",
      "INFO:tensorflow:global_step/sec: 103.605\n",
      "INFO:tensorflow:loss = 2.0017393, step = 32501 (0.965 sec)\n",
      "INFO:tensorflow:global_step/sec: 103.365\n",
      "INFO:tensorflow:loss = 4.4027247, step = 32601 (0.967 sec)\n",
      "INFO:tensorflow:global_step/sec: 109.255\n",
      "INFO:tensorflow:loss = 2.4619021, step = 32701 (0.916 sec)\n",
      "INFO:tensorflow:global_step/sec: 111.14\n",
      "INFO:tensorflow:loss = 3.0482635, step = 32801 (0.901 sec)\n",
      "INFO:tensorflow:global_step/sec: 112.087\n",
      "INFO:tensorflow:loss = 1.3071518, step = 32901 (0.890 sec)\n",
      "INFO:tensorflow:global_step/sec: 113.48\n",
      "INFO:tensorflow:loss = 3.4576929, step = 33001 (0.884 sec)\n",
      "INFO:tensorflow:global_step/sec: 109.854\n",
      "INFO:tensorflow:loss = 3.9531775, step = 33101 (0.907 sec)\n",
      "INFO:tensorflow:global_step/sec: 115.632\n",
      "INFO:tensorflow:loss = 4.539346, step = 33201 (0.865 sec)\n",
      "INFO:tensorflow:global_step/sec: 108.872\n",
      "INFO:tensorflow:loss = 1.6393619, step = 33301 (0.919 sec)\n",
      "INFO:tensorflow:global_step/sec: 111.103\n",
      "INFO:tensorflow:loss = 2.4615204, step = 33401 (0.900 sec)\n",
      "INFO:tensorflow:global_step/sec: 109.386\n",
      "INFO:tensorflow:loss = 2.0994363, step = 33501 (0.914 sec)\n",
      "INFO:tensorflow:global_step/sec: 109.212\n",
      "INFO:tensorflow:loss = 3.699677, step = 33601 (0.916 sec)\n",
      "INFO:tensorflow:global_step/sec: 113.015\n",
      "INFO:tensorflow:loss = 2.9929085, step = 33701 (0.885 sec)\n",
      "INFO:tensorflow:global_step/sec: 103.722\n",
      "INFO:tensorflow:loss = 4.005494, step = 33801 (0.964 sec)\n",
      "INFO:tensorflow:global_step/sec: 102.672\n",
      "INFO:tensorflow:loss = 4.151157, step = 33901 (0.976 sec)\n",
      "INFO:tensorflow:global_step/sec: 93.0746\n",
      "INFO:tensorflow:loss = 2.2990005, step = 34001 (1.074 sec)\n",
      "INFO:tensorflow:global_step/sec: 105.308\n",
      "INFO:tensorflow:loss = 1.0889826, step = 34101 (0.950 sec)\n",
      "INFO:tensorflow:global_step/sec: 98.692\n",
      "INFO:tensorflow:loss = 3.9301505, step = 34201 (1.012 sec)\n",
      "INFO:tensorflow:global_step/sec: 101.473\n",
      "INFO:tensorflow:loss = 1.6997707, step = 34301 (0.986 sec)\n",
      "INFO:tensorflow:global_step/sec: 92.6555\n",
      "INFO:tensorflow:loss = 2.051899, step = 34401 (1.080 sec)\n",
      "INFO:tensorflow:global_step/sec: 81.5576\n",
      "INFO:tensorflow:loss = 2.738226, step = 34501 (1.227 sec)\n",
      "INFO:tensorflow:global_step/sec: 100.179\n",
      "INFO:tensorflow:loss = 1.6415851, step = 34601 (1.000 sec)\n",
      "INFO:tensorflow:global_step/sec: 96.1499\n",
      "INFO:tensorflow:loss = 2.63807, step = 34701 (1.039 sec)\n",
      "INFO:tensorflow:global_step/sec: 87.7205\n",
      "INFO:tensorflow:loss = 1.1379254, step = 34801 (1.137 sec)\n",
      "INFO:tensorflow:global_step/sec: 93.3289\n",
      "INFO:tensorflow:loss = 3.5388927, step = 34901 (1.075 sec)\n",
      "INFO:tensorflow:global_step/sec: 91.966\n",
      "INFO:tensorflow:loss = 2.7981942, step = 35001 (1.084 sec)\n",
      "INFO:tensorflow:global_step/sec: 93.156\n",
      "INFO:tensorflow:loss = 3.2402062, step = 35101 (1.079 sec)\n",
      "INFO:tensorflow:global_step/sec: 93.1597\n",
      "INFO:tensorflow:loss = 3.2192404, step = 35201 (1.068 sec)\n",
      "INFO:tensorflow:global_step/sec: 98.171\n",
      "INFO:tensorflow:loss = 1.3104663, step = 35301 (1.019 sec)\n",
      "INFO:tensorflow:global_step/sec: 94.2545\n",
      "INFO:tensorflow:loss = 2.1589203, step = 35401 (1.061 sec)\n",
      "INFO:tensorflow:global_step/sec: 97.8411\n",
      "INFO:tensorflow:loss = 4.338726, step = 35501 (1.025 sec)\n",
      "INFO:tensorflow:global_step/sec: 97.4285\n",
      "INFO:tensorflow:loss = 2.2008886, step = 35601 (1.024 sec)\n",
      "INFO:tensorflow:global_step/sec: 87.0543\n",
      "INFO:tensorflow:loss = 1.3264843, step = 35701 (1.149 sec)\n",
      "INFO:tensorflow:global_step/sec: 87.3036\n",
      "INFO:tensorflow:loss = 4.853978, step = 35801 (1.145 sec)\n",
      "INFO:tensorflow:global_step/sec: 91.4431\n",
      "INFO:tensorflow:loss = 3.449531, step = 35901 (1.093 sec)\n",
      "INFO:tensorflow:global_step/sec: 88.952\n",
      "INFO:tensorflow:loss = 2.7083085, step = 36001 (1.125 sec)\n",
      "INFO:tensorflow:global_step/sec: 79.9384\n",
      "INFO:tensorflow:loss = 1.4678745, step = 36101 (1.251 sec)\n",
      "INFO:tensorflow:global_step/sec: 84.6874\n",
      "INFO:tensorflow:loss = 6.0763073, step = 36201 (1.184 sec)\n",
      "INFO:tensorflow:global_step/sec: 87.7672\n",
      "INFO:tensorflow:loss = 2.3435395, step = 36301 (1.137 sec)\n",
      "INFO:tensorflow:global_step/sec: 92.8452\n",
      "INFO:tensorflow:loss = 4.906699, step = 36401 (1.079 sec)\n",
      "INFO:tensorflow:global_step/sec: 91.408\n",
      "INFO:tensorflow:loss = 3.5192976, step = 36501 (1.095 sec)\n",
      "INFO:tensorflow:global_step/sec: 90.5069\n",
      "INFO:tensorflow:loss = 4.428892, step = 36601 (1.102 sec)\n",
      "INFO:tensorflow:global_step/sec: 98.7984\n",
      "INFO:tensorflow:loss = 3.5847147, step = 36701 (1.012 sec)\n",
      "INFO:tensorflow:global_step/sec: 103.258\n",
      "INFO:tensorflow:loss = 3.9756274, step = 36801 (0.968 sec)\n",
      "INFO:tensorflow:global_step/sec: 107.025\n",
      "INFO:tensorflow:loss = 2.9802134, step = 36901 (0.934 sec)\n",
      "INFO:tensorflow:global_step/sec: 108.036\n",
      "INFO:tensorflow:loss = 2.2985957, step = 37001 (0.926 sec)\n",
      "INFO:tensorflow:global_step/sec: 108.737\n",
      "INFO:tensorflow:loss = 1.5197856, step = 37101 (0.920 sec)\n",
      "INFO:tensorflow:global_step/sec: 107.815\n",
      "INFO:tensorflow:loss = 1.9323044, step = 37201 (0.927 sec)\n",
      "INFO:tensorflow:global_step/sec: 108.904\n",
      "INFO:tensorflow:loss = 1.5468807, step = 37301 (0.919 sec)\n",
      "INFO:tensorflow:global_step/sec: 110.601\n",
      "INFO:tensorflow:loss = 3.9884539, step = 37401 (0.904 sec)\n",
      "INFO:tensorflow:global_step/sec: 106.833\n",
      "INFO:tensorflow:loss = 1.7257375, step = 37501 (0.936 sec)\n",
      "INFO:tensorflow:global_step/sec: 108.706\n",
      "INFO:tensorflow:loss = 3.3279672, step = 37601 (0.921 sec)\n",
      "INFO:tensorflow:global_step/sec: 97.8719\n",
      "INFO:tensorflow:loss = 2.95779, step = 37701 (1.021 sec)\n",
      "INFO:tensorflow:global_step/sec: 102.372\n",
      "INFO:tensorflow:loss = 1.2081695, step = 37801 (0.977 sec)\n",
      "INFO:tensorflow:global_step/sec: 95.2268\n",
      "INFO:tensorflow:loss = 2.42557, step = 37901 (1.050 sec)\n",
      "INFO:tensorflow:global_step/sec: 92.8614\n",
      "INFO:tensorflow:loss = 2.6798751, step = 38001 (1.077 sec)\n",
      "INFO:tensorflow:global_step/sec: 87.1688\n",
      "INFO:tensorflow:loss = 2.6333914, step = 38101 (1.147 sec)\n",
      "INFO:tensorflow:global_step/sec: 85.5048\n",
      "INFO:tensorflow:loss = 1.9023926, step = 38201 (1.170 sec)\n",
      "INFO:tensorflow:global_step/sec: 89.236\n",
      "INFO:tensorflow:loss = 2.0734935, step = 38301 (1.124 sec)\n",
      "INFO:tensorflow:global_step/sec: 83.4989\n",
      "INFO:tensorflow:loss = 3.2030735, step = 38401 (1.194 sec)\n",
      "INFO:tensorflow:global_step/sec: 90.9693\n",
      "INFO:tensorflow:loss = 3.3197942, step = 38501 (1.102 sec)\n",
      "INFO:tensorflow:global_step/sec: 79.6369\n",
      "INFO:tensorflow:loss = 1.4605159, step = 38601 (1.254 sec)\n",
      "INFO:tensorflow:global_step/sec: 87.0319\n",
      "INFO:tensorflow:loss = 3.6481237, step = 38701 (1.152 sec)\n",
      "INFO:tensorflow:global_step/sec: 86.4226\n",
      "INFO:tensorflow:loss = 5.106415, step = 38801 (1.154 sec)\n",
      "INFO:tensorflow:global_step/sec: 85.1341\n",
      "INFO:tensorflow:loss = 5.2436247, step = 38901 (1.175 sec)\n",
      "INFO:tensorflow:global_step/sec: 83.1434\n",
      "INFO:tensorflow:loss = 1.2591417, step = 39001 (1.202 sec)\n",
      "INFO:tensorflow:global_step/sec: 86.819\n",
      "INFO:tensorflow:loss = 1.8616111, step = 39101 (1.154 sec)\n",
      "INFO:tensorflow:global_step/sec: 88.6859\n",
      "INFO:tensorflow:loss = 5.555233, step = 39201 (1.126 sec)\n",
      "INFO:tensorflow:global_step/sec: 88.7694\n",
      "INFO:tensorflow:loss = 1.9879059, step = 39301 (1.126 sec)\n",
      "INFO:tensorflow:global_step/sec: 84.3617\n",
      "INFO:tensorflow:loss = 1.7034296, step = 39401 (1.187 sec)\n",
      "INFO:tensorflow:global_step/sec: 89.7631\n",
      "INFO:tensorflow:loss = 3.1801615, step = 39501 (1.113 sec)\n",
      "INFO:tensorflow:global_step/sec: 97.9617\n",
      "INFO:tensorflow:loss = 2.0598016, step = 39601 (1.021 sec)\n",
      "INFO:tensorflow:global_step/sec: 96.4768\n",
      "INFO:tensorflow:loss = 1.9500556, step = 39701 (1.038 sec)\n",
      "INFO:tensorflow:global_step/sec: 96.5504\n",
      "INFO:tensorflow:loss = 7.2491155, step = 39801 (1.036 sec)\n",
      "INFO:tensorflow:global_step/sec: 95.0849\n",
      "INFO:tensorflow:loss = 3.0574207, step = 39901 (1.050 sec)\n",
      "INFO:tensorflow:global_step/sec: 85.0692\n",
      "INFO:tensorflow:loss = 2.7591724, step = 40001 (1.178 sec)\n",
      "INFO:tensorflow:global_step/sec: 92.9543\n",
      "INFO:tensorflow:loss = 2.989063, step = 40101 (1.076 sec)\n",
      "INFO:tensorflow:global_step/sec: 95.6768\n",
      "INFO:tensorflow:loss = 5.030225, step = 40201 (1.046 sec)\n",
      "INFO:tensorflow:global_step/sec: 97.1667\n",
      "INFO:tensorflow:loss = 2.451321, step = 40301 (1.029 sec)\n",
      "INFO:tensorflow:global_step/sec: 91.5525\n",
      "INFO:tensorflow:loss = 4.2211285, step = 40401 (1.089 sec)\n",
      "INFO:tensorflow:global_step/sec: 96.8293\n",
      "INFO:tensorflow:loss = 2.6807554, step = 40501 (1.033 sec)\n",
      "INFO:tensorflow:global_step/sec: 100.271\n",
      "INFO:tensorflow:loss = 1.9588015, step = 40601 (0.997 sec)\n",
      "INFO:tensorflow:global_step/sec: 103.299\n",
      "INFO:tensorflow:loss = 2.080324, step = 40701 (0.968 sec)\n",
      "INFO:tensorflow:global_step/sec: 105.958\n",
      "INFO:tensorflow:loss = 2.7402904, step = 40801 (0.944 sec)\n",
      "INFO:tensorflow:global_step/sec: 103.161\n",
      "INFO:tensorflow:loss = 2.7217698, step = 40901 (0.970 sec)\n",
      "INFO:tensorflow:global_step/sec: 97.7696\n",
      "INFO:tensorflow:loss = 2.5491507, step = 41001 (1.021 sec)\n",
      "INFO:tensorflow:global_step/sec: 94.0265\n",
      "INFO:tensorflow:loss = 1.6451154, step = 41101 (1.064 sec)\n",
      "INFO:tensorflow:global_step/sec: 96.34\n",
      "INFO:tensorflow:loss = 1.2276766, step = 41201 (1.039 sec)\n",
      "INFO:tensorflow:global_step/sec: 96.1302\n",
      "INFO:tensorflow:loss = 2.3807385, step = 41301 (1.043 sec)\n",
      "INFO:tensorflow:global_step/sec: 80.0391\n",
      "INFO:tensorflow:loss = 1.8068447, step = 41401 (1.248 sec)\n",
      "INFO:tensorflow:global_step/sec: 86.7845\n",
      "INFO:tensorflow:loss = 1.5922196, step = 41501 (1.150 sec)\n",
      "INFO:tensorflow:global_step/sec: 89.6941\n",
      "INFO:tensorflow:loss = 2.2793565, step = 41601 (1.115 sec)\n",
      "INFO:tensorflow:global_step/sec: 88.5078\n",
      "INFO:tensorflow:loss = 2.436572, step = 41701 (1.130 sec)\n",
      "INFO:tensorflow:global_step/sec: 94.2063\n",
      "INFO:tensorflow:loss = 1.3516011, step = 41801 (1.061 sec)\n",
      "INFO:tensorflow:global_step/sec: 97.9108\n",
      "INFO:tensorflow:loss = 3.0478747, step = 41901 (1.021 sec)\n",
      "INFO:tensorflow:global_step/sec: 103.521\n",
      "INFO:tensorflow:loss = 3.3286066, step = 42001 (0.966 sec)\n",
      "INFO:tensorflow:global_step/sec: 102.74\n",
      "INFO:tensorflow:loss = 1.6796043, step = 42101 (0.979 sec)\n",
      "INFO:tensorflow:global_step/sec: 100.821\n",
      "INFO:tensorflow:loss = 3.5083094, step = 42201 (0.986 sec)\n",
      "INFO:tensorflow:global_step/sec: 106.594\n",
      "INFO:tensorflow:loss = 3.620973, step = 42301 (0.938 sec)\n",
      "INFO:tensorflow:global_step/sec: 89.0534\n",
      "INFO:tensorflow:loss = 3.320837, step = 42401 (1.124 sec)\n",
      "INFO:tensorflow:global_step/sec: 94.4297\n",
      "INFO:tensorflow:loss = 1.9174083, step = 42501 (1.059 sec)\n",
      "INFO:tensorflow:global_step/sec: 87.7827\n",
      "INFO:tensorflow:loss = 2.8257232, step = 42601 (1.139 sec)\n",
      "INFO:tensorflow:global_step/sec: 89.0633\n",
      "INFO:tensorflow:loss = 2.468596, step = 42701 (1.123 sec)\n",
      "INFO:tensorflow:global_step/sec: 88.9495\n",
      "INFO:tensorflow:loss = 2.305004, step = 42801 (1.124 sec)\n",
      "INFO:tensorflow:global_step/sec: 83.2364\n",
      "INFO:tensorflow:loss = 3.3725548, step = 42901 (1.201 sec)\n",
      "INFO:tensorflow:global_step/sec: 93.5202\n",
      "INFO:tensorflow:loss = 2.8319147, step = 43001 (1.073 sec)\n",
      "INFO:tensorflow:global_step/sec: 76.1953\n",
      "INFO:tensorflow:loss = 2.2083397, step = 43101 (1.313 sec)\n",
      "INFO:tensorflow:global_step/sec: 76.0456\n",
      "INFO:tensorflow:loss = 1.643214, step = 43201 (1.312 sec)\n",
      "INFO:tensorflow:global_step/sec: 78.5734\n",
      "INFO:tensorflow:loss = 1.6200507, step = 43301 (1.272 sec)\n",
      "INFO:tensorflow:global_step/sec: 79.5549\n",
      "INFO:tensorflow:loss = 1.1063275, step = 43401 (1.257 sec)\n",
      "INFO:tensorflow:global_step/sec: 72.7929\n",
      "INFO:tensorflow:loss = 1.6895623, step = 43501 (1.374 sec)\n",
      "INFO:tensorflow:global_step/sec: 75.6392\n",
      "INFO:tensorflow:loss = 2.8814626, step = 43601 (1.326 sec)\n",
      "INFO:tensorflow:global_step/sec: 66.0438\n",
      "INFO:tensorflow:loss = 1.954355, step = 43701 (1.512 sec)\n",
      "INFO:tensorflow:global_step/sec: 75.8655\n",
      "INFO:tensorflow:loss = 3.7302542, step = 43801 (1.318 sec)\n",
      "INFO:tensorflow:global_step/sec: 73.5284\n",
      "INFO:tensorflow:loss = 3.695166, step = 43901 (1.360 sec)\n",
      "INFO:tensorflow:global_step/sec: 64.067\n",
      "INFO:tensorflow:loss = 1.4063323, step = 44001 (1.561 sec)\n",
      "INFO:tensorflow:global_step/sec: 72.3985\n",
      "INFO:tensorflow:loss = 2.199511, step = 44101 (1.384 sec)\n",
      "INFO:tensorflow:global_step/sec: 76.81\n",
      "INFO:tensorflow:loss = 1.3780761, step = 44201 (1.301 sec)\n",
      "INFO:tensorflow:global_step/sec: 72.6581\n",
      "INFO:tensorflow:loss = 1.3144778, step = 44301 (1.375 sec)\n",
      "INFO:tensorflow:global_step/sec: 70.0873\n",
      "INFO:tensorflow:loss = 1.2033126, step = 44401 (1.426 sec)\n",
      "INFO:tensorflow:global_step/sec: 75.0978\n",
      "INFO:tensorflow:loss = 3.177048, step = 44501 (1.335 sec)\n",
      "INFO:tensorflow:global_step/sec: 76.5228\n",
      "INFO:tensorflow:loss = 2.2686641, step = 44601 (1.303 sec)\n",
      "INFO:tensorflow:global_step/sec: 85.1388\n",
      "INFO:tensorflow:loss = 1.7518071, step = 44701 (1.181 sec)\n",
      "INFO:tensorflow:global_step/sec: 70.8472\n",
      "INFO:tensorflow:loss = 1.7872183, step = 44801 (1.405 sec)\n",
      "INFO:tensorflow:global_step/sec: 78.7719\n",
      "INFO:tensorflow:loss = 1.4850836, step = 44901 (1.270 sec)\n",
      "INFO:tensorflow:global_step/sec: 80.7864\n",
      "INFO:tensorflow:loss = 2.0698798, step = 45001 (1.241 sec)\n",
      "INFO:tensorflow:global_step/sec: 74.4152\n",
      "INFO:tensorflow:loss = 2.7845774, step = 45101 (1.341 sec)\n",
      "INFO:tensorflow:global_step/sec: 77.9118\n",
      "INFO:tensorflow:loss = 3.5004573, step = 45201 (1.289 sec)\n",
      "INFO:tensorflow:global_step/sec: 70.7507\n",
      "INFO:tensorflow:loss = 1.5245456, step = 45301 (1.408 sec)\n",
      "INFO:tensorflow:global_step/sec: 79.4093\n",
      "INFO:tensorflow:loss = 2.9714103, step = 45401 (1.260 sec)\n",
      "INFO:tensorflow:global_step/sec: 72.0452\n",
      "INFO:tensorflow:loss = 1.1533418, step = 45501 (1.388 sec)\n",
      "INFO:tensorflow:global_step/sec: 71.2158\n",
      "INFO:tensorflow:loss = 1.5000942, step = 45601 (1.409 sec)\n",
      "INFO:tensorflow:global_step/sec: 72.1137\n",
      "INFO:tensorflow:loss = 2.2415345, step = 45701 (1.382 sec)\n",
      "INFO:tensorflow:global_step/sec: 73.3534\n",
      "INFO:tensorflow:loss = 2.5330708, step = 45801 (1.362 sec)\n",
      "INFO:tensorflow:global_step/sec: 72.9687\n",
      "INFO:tensorflow:loss = 1.2493392, step = 45901 (1.371 sec)\n",
      "INFO:tensorflow:global_step/sec: 73.5587\n",
      "INFO:tensorflow:loss = 1.475165, step = 46001 (1.363 sec)\n",
      "INFO:tensorflow:global_step/sec: 76.7131\n",
      "INFO:tensorflow:loss = 1.2892141, step = 46101 (1.301 sec)\n",
      "INFO:tensorflow:global_step/sec: 77.854\n",
      "INFO:tensorflow:loss = 3.3877723, step = 46201 (1.282 sec)\n",
      "INFO:tensorflow:global_step/sec: 90.1278\n",
      "INFO:tensorflow:loss = 2.090893, step = 46301 (1.113 sec)\n",
      "INFO:tensorflow:global_step/sec: 87.2188\n",
      "INFO:tensorflow:loss = 3.8141224, step = 46401 (1.143 sec)\n",
      "INFO:tensorflow:global_step/sec: 92.9151\n",
      "INFO:tensorflow:loss = 2.9055605, step = 46501 (1.076 sec)\n",
      "INFO:tensorflow:global_step/sec: 99.9227\n",
      "INFO:tensorflow:loss = 3.351411, step = 46601 (1.004 sec)\n",
      "INFO:tensorflow:global_step/sec: 99.0694\n",
      "INFO:tensorflow:loss = 2.9768665, step = 46701 (1.006 sec)\n",
      "INFO:tensorflow:global_step/sec: 89.1886\n",
      "INFO:tensorflow:loss = 3.0196915, step = 46801 (1.121 sec)\n",
      "INFO:tensorflow:global_step/sec: 96.3216\n",
      "INFO:tensorflow:loss = 1.84708, step = 46901 (1.039 sec)\n",
      "INFO:tensorflow:global_step/sec: 86.0109\n",
      "INFO:tensorflow:loss = 3.1110854, step = 47001 (1.163 sec)\n",
      "INFO:tensorflow:global_step/sec: 87.0195\n",
      "INFO:tensorflow:loss = 1.5459509, step = 47101 (1.148 sec)\n",
      "INFO:tensorflow:global_step/sec: 90.1151\n",
      "INFO:tensorflow:loss = 2.7182424, step = 47201 (1.111 sec)\n",
      "INFO:tensorflow:global_step/sec: 80.4656\n",
      "INFO:tensorflow:loss = 3.9806464, step = 47301 (1.242 sec)\n",
      "INFO:tensorflow:global_step/sec: 91.5484\n",
      "INFO:tensorflow:loss = 4.2587786, step = 47401 (1.094 sec)\n",
      "INFO:tensorflow:global_step/sec: 83.6788\n",
      "INFO:tensorflow:loss = 3.5717912, step = 47501 (1.193 sec)\n",
      "INFO:tensorflow:global_step/sec: 79.8393\n",
      "INFO:tensorflow:loss = 3.7359943, step = 47601 (1.252 sec)\n",
      "INFO:tensorflow:global_step/sec: 83.2989\n",
      "INFO:tensorflow:loss = 2.1686397, step = 47701 (1.200 sec)\n",
      "INFO:tensorflow:global_step/sec: 86.3177\n",
      "INFO:tensorflow:loss = 1.6669745, step = 47801 (1.160 sec)\n",
      "INFO:tensorflow:global_step/sec: 87.419\n",
      "INFO:tensorflow:loss = 1.5561012, step = 47901 (1.141 sec)\n",
      "INFO:tensorflow:global_step/sec: 94.3421\n",
      "INFO:tensorflow:loss = 2.2577581, step = 48001 (1.063 sec)\n",
      "INFO:tensorflow:global_step/sec: 93.6057\n",
      "INFO:tensorflow:loss = 4.2952003, step = 48101 (1.066 sec)\n",
      "INFO:tensorflow:global_step/sec: 97.2534\n",
      "INFO:tensorflow:loss = 2.4922533, step = 48201 (1.028 sec)\n",
      "INFO:tensorflow:global_step/sec: 100.262\n",
      "INFO:tensorflow:loss = 2.7760515, step = 48301 (0.997 sec)\n",
      "INFO:tensorflow:global_step/sec: 97.9669\n",
      "INFO:tensorflow:loss = 2.4231088, step = 48401 (1.021 sec)\n",
      "INFO:tensorflow:global_step/sec: 97.9277\n",
      "INFO:tensorflow:loss = 2.7223463, step = 48501 (1.021 sec)\n",
      "INFO:tensorflow:global_step/sec: 99.5173\n",
      "INFO:tensorflow:loss = 4.0176272, step = 48601 (1.004 sec)\n",
      "INFO:tensorflow:global_step/sec: 103.119\n",
      "INFO:tensorflow:loss = 5.3986626, step = 48701 (0.970 sec)\n",
      "INFO:tensorflow:global_step/sec: 107.437\n",
      "INFO:tensorflow:loss = 2.4457192, step = 48801 (0.933 sec)\n",
      "INFO:tensorflow:global_step/sec: 102.43\n",
      "INFO:tensorflow:loss = 1.6725605, step = 48901 (0.974 sec)\n",
      "INFO:tensorflow:global_step/sec: 100.305\n",
      "INFO:tensorflow:loss = 1.6510756, step = 49001 (0.997 sec)\n",
      "INFO:tensorflow:global_step/sec: 107.775\n",
      "INFO:tensorflow:loss = 1.5214816, step = 49101 (0.931 sec)\n",
      "INFO:tensorflow:global_step/sec: 103.992\n",
      "INFO:tensorflow:loss = 2.5852218, step = 49201 (0.959 sec)\n",
      "INFO:tensorflow:global_step/sec: 107.061\n",
      "INFO:tensorflow:loss = 1.8928889, step = 49301 (0.934 sec)\n",
      "INFO:tensorflow:global_step/sec: 105.341\n",
      "INFO:tensorflow:loss = 1.2575779, step = 49401 (0.949 sec)\n",
      "INFO:tensorflow:global_step/sec: 107.653\n",
      "INFO:tensorflow:loss = 1.257359, step = 49501 (0.929 sec)\n",
      "INFO:tensorflow:global_step/sec: 108.144\n",
      "INFO:tensorflow:loss = 2.5903964, step = 49601 (0.927 sec)\n",
      "INFO:tensorflow:global_step/sec: 111.113\n",
      "INFO:tensorflow:loss = 2.4592166, step = 49701 (0.901 sec)\n",
      "INFO:tensorflow:global_step/sec: 103.149\n",
      "INFO:tensorflow:loss = 3.5694337, step = 49801 (0.966 sec)\n",
      "INFO:tensorflow:global_step/sec: 103.899\n",
      "INFO:tensorflow:loss = 3.8195262, step = 49901 (0.963 sec)\n",
      "INFO:tensorflow:Saving checkpoints for 50000 into /var/folders/nr/yyxxzlcj1gqfwgbp7mn9l610q3vvqq/T/tmp2ziygdh9/model.ckpt.\n",
      "INFO:tensorflow:Loss for final step: 1.0828989.\n"
     ]
    },
    {
     "data": {
      "text/plain": [
       "<tensorflow.python.estimator.canned.dnn.DNNRegressor at 0xb2fb46198>"
      ]
     },
     "execution_count": 69,
     "metadata": {},
     "output_type": "execute_result"
    }
   ],
   "source": [
    "model.train(input_fn=input_dn(X_train,Y_train,num_epochs=None,shuffle=True),steps=20000)"
   ]
  },
  {
   "cell_type": "code",
   "execution_count": 83,
   "metadata": {},
   "outputs": [
    {
     "name": "stdout",
     "output_type": "stream",
     "text": [
      "INFO:tensorflow:Calling model_fn.\n",
      "INFO:tensorflow:Done calling model_fn.\n",
      "INFO:tensorflow:Starting evaluation at 2018-08-12-16:22:11\n",
      "INFO:tensorflow:Graph was finalized.\n",
      "INFO:tensorflow:Restoring parameters from /var/folders/nr/yyxxzlcj1gqfwgbp7mn9l610q3vvqq/T/tmp2ziygdh9/model.ckpt-50000\n",
      "INFO:tensorflow:Running local_init_op.\n",
      "INFO:tensorflow:Done running local_init_op.\n",
      "INFO:tensorflow:Finished evaluation at 2018-08-12-16:22:12\n",
      "INFO:tensorflow:Saving dict for global step 50000: average_loss = 0.047263432, global_step = 50000, loss = 1.5124298\n",
      "INFO:tensorflow:Saving 'checkpoint_path' summary for global step 50000: /var/folders/nr/yyxxzlcj1gqfwgbp7mn9l610q3vvqq/T/tmp2ziygdh9/model.ckpt-50000\n"
     ]
    }
   ],
   "source": [
    "results = model.evaluate(input_fn=input_dn(X_test,Y_test,num_epochs=1,shuffle=True))"
   ]
  },
  {
   "cell_type": "code",
   "execution_count": 84,
   "metadata": {},
   "outputs": [
    {
     "name": "stdout",
     "output_type": "stream",
     "text": [
      "average_loss: 0.047263432\n",
      "global_step: 50000\n",
      "loss: 1.5124298\n"
     ]
    }
   ],
   "source": [
    "for key in sorted(results):\n",
    "    print(\"%s: %s\" % (key , results[key]))"
   ]
  },
  {
   "cell_type": "code",
   "execution_count": 85,
   "metadata": {},
   "outputs": [],
   "source": [
    "avg_loss = results['average_loss']"
   ]
  },
  {
   "cell_type": "code",
   "execution_count": 86,
   "metadata": {},
   "outputs": [
    {
     "name": "stdout",
     "output_type": "stream",
     "text": [
      "RMS error : $2174\n"
     ]
    }
   ],
   "source": [
    "print(\"RMS error : ${:.0f}\".format(PRICE_SCALING_FACTOR*avg_loss**0.5))"
   ]
  },
  {
   "cell_type": "code",
   "execution_count": 87,
   "metadata": {},
   "outputs": [
    {
     "data": {
      "text/plain": [
       "(6, 6)"
      ]
     },
     "execution_count": 87,
     "metadata": {},
     "output_type": "execute_result"
    }
   ],
   "source": [
    "len(X_predict) , len(Y_predict)"
   ]
  },
  {
   "cell_type": "code",
   "execution_count": 88,
   "metadata": {},
   "outputs": [],
   "source": [
    "predicted_results = model.predict(input_fn=input_dn(X_predict,Y_predict,num_epochs=1,shuffle=False))"
   ]
  },
  {
   "cell_type": "code",
   "execution_count": 89,
   "metadata": {},
   "outputs": [
    {
     "name": "stdout",
     "output_type": "stream",
     "text": [
      "INFO:tensorflow:Calling model_fn.\n",
      "INFO:tensorflow:Done calling model_fn.\n",
      "INFO:tensorflow:Graph was finalized.\n",
      "INFO:tensorflow:Restoring parameters from /var/folders/nr/yyxxzlcj1gqfwgbp7mn9l610q3vvqq/T/tmp2ziygdh9/model.ckpt-50000\n",
      "INFO:tensorflow:Running local_init_op.\n",
      "INFO:tensorflow:Done running local_init_op.\n"
     ]
    }
   ],
   "source": [
    "predictions = list(itertools.islice(predicted_results,len(X_predict)))"
   ]
  },
  {
   "cell_type": "code",
   "execution_count": 90,
   "metadata": {},
   "outputs": [
    {
     "data": {
      "text/plain": [
       "[{'predictions': array([0.98185146], dtype=float32)},\n",
       " {'predictions': array([0.80950344], dtype=float32)},\n",
       " {'predictions': array([1.7152117], dtype=float32)},\n",
       " {'predictions': array([0.621271], dtype=float32)},\n",
       " {'predictions': array([0.840227], dtype=float32)},\n",
       " {'predictions': array([1.1238955], dtype=float32)}]"
      ]
     },
     "execution_count": 90,
     "metadata": {},
     "output_type": "execute_result"
    }
   ],
   "source": [
    "predictions"
   ]
  },
  {
   "cell_type": "code",
   "execution_count": 91,
   "metadata": {},
   "outputs": [],
   "source": [
    "predicted_prices = [obj['predictions'][0]*PRICE_SCALING_FACTOR for obj in predictions]"
   ]
  },
  {
   "cell_type": "code",
   "execution_count": 92,
   "metadata": {},
   "outputs": [
    {
     "data": {
      "text/plain": [
       "[9818.514585494995,\n",
       " 8095.03436088562,\n",
       " 17152.117490768433,\n",
       " 6212.71014213562,\n",
       " 8402.270078659058,\n",
       " 11238.95525932312]"
      ]
     },
     "execution_count": 92,
     "metadata": {},
     "output_type": "execute_result"
    }
   ],
   "source": [
    "predicted_prices"
   ]
  },
  {
   "cell_type": "code",
   "execution_count": 93,
   "metadata": {},
   "outputs": [],
   "source": [
    "compare_df = X_predict.copy()"
   ]
  },
  {
   "cell_type": "code",
   "execution_count": 94,
   "metadata": {},
   "outputs": [],
   "source": [
    "compare_df['Actual'] = Y_predict\n",
    "compare_df['predicted'] = predicted_prices"
   ]
  },
  {
   "cell_type": "code",
   "execution_count": 95,
   "metadata": {},
   "outputs": [
    {
     "data": {
      "text/html": [
       "<div>\n",
       "<style scoped>\n",
       "    .dataframe tbody tr th:only-of-type {\n",
       "        vertical-align: middle;\n",
       "    }\n",
       "\n",
       "    .dataframe tbody tr th {\n",
       "        vertical-align: top;\n",
       "    }\n",
       "\n",
       "    .dataframe thead th {\n",
       "        text-align: right;\n",
       "    }\n",
       "</style>\n",
       "<table border=\"1\" class=\"dataframe\">\n",
       "  <thead>\n",
       "    <tr style=\"text-align: right;\">\n",
       "      <th></th>\n",
       "      <th>make</th>\n",
       "      <th>fuel-type</th>\n",
       "      <th>aspiration</th>\n",
       "      <th>num-of-doors</th>\n",
       "      <th>body-style</th>\n",
       "      <th>drive-wheels</th>\n",
       "      <th>curb-weight</th>\n",
       "      <th>engine-location</th>\n",
       "      <th>engine-type</th>\n",
       "      <th>num-of-cylinders</th>\n",
       "      <th>fuel-system</th>\n",
       "      <th>engine-size</th>\n",
       "      <th>horsepower</th>\n",
       "      <th>peak-rpm</th>\n",
       "      <th>city-mpg</th>\n",
       "      <th>highway-mpg</th>\n",
       "      <th>Actual</th>\n",
       "      <th>predicted</th>\n",
       "    </tr>\n",
       "  </thead>\n",
       "  <tbody>\n",
       "    <tr>\n",
       "      <th>143</th>\n",
       "      <td>subaru</td>\n",
       "      <td>gas</td>\n",
       "      <td>std</td>\n",
       "      <td>four</td>\n",
       "      <td>sedan</td>\n",
       "      <td>fwd</td>\n",
       "      <td>2340.0</td>\n",
       "      <td>front</td>\n",
       "      <td>ohcf</td>\n",
       "      <td>four</td>\n",
       "      <td>mpfi</td>\n",
       "      <td>108.0</td>\n",
       "      <td>94.0</td>\n",
       "      <td>5200.0</td>\n",
       "      <td>26.0</td>\n",
       "      <td>32.0</td>\n",
       "      <td>9960.0</td>\n",
       "      <td>9818.514585</td>\n",
       "    </tr>\n",
       "    <tr>\n",
       "      <th>119</th>\n",
       "      <td>plymouth</td>\n",
       "      <td>gas</td>\n",
       "      <td>turbo</td>\n",
       "      <td>two</td>\n",
       "      <td>hatchback</td>\n",
       "      <td>fwd</td>\n",
       "      <td>2128.0</td>\n",
       "      <td>front</td>\n",
       "      <td>ohc</td>\n",
       "      <td>four</td>\n",
       "      <td>spdi</td>\n",
       "      <td>98.0</td>\n",
       "      <td>102.0</td>\n",
       "      <td>5500.0</td>\n",
       "      <td>24.0</td>\n",
       "      <td>30.0</td>\n",
       "      <td>7957.0</td>\n",
       "      <td>8095.034361</td>\n",
       "    </tr>\n",
       "    <tr>\n",
       "      <th>180</th>\n",
       "      <td>toyota</td>\n",
       "      <td>gas</td>\n",
       "      <td>std</td>\n",
       "      <td>four</td>\n",
       "      <td>sedan</td>\n",
       "      <td>rwd</td>\n",
       "      <td>3131.0</td>\n",
       "      <td>front</td>\n",
       "      <td>dohc</td>\n",
       "      <td>six</td>\n",
       "      <td>mpfi</td>\n",
       "      <td>171.0</td>\n",
       "      <td>156.0</td>\n",
       "      <td>5200.0</td>\n",
       "      <td>20.0</td>\n",
       "      <td>24.0</td>\n",
       "      <td>15690.0</td>\n",
       "      <td>17152.117491</td>\n",
       "    </tr>\n",
       "    <tr>\n",
       "      <th>92</th>\n",
       "      <td>nissan</td>\n",
       "      <td>gas</td>\n",
       "      <td>std</td>\n",
       "      <td>four</td>\n",
       "      <td>sedan</td>\n",
       "      <td>fwd</td>\n",
       "      <td>1938.0</td>\n",
       "      <td>front</td>\n",
       "      <td>ohc</td>\n",
       "      <td>four</td>\n",
       "      <td>2bbl</td>\n",
       "      <td>97.0</td>\n",
       "      <td>69.0</td>\n",
       "      <td>5200.0</td>\n",
       "      <td>31.0</td>\n",
       "      <td>37.0</td>\n",
       "      <td>6849.0</td>\n",
       "      <td>6212.710142</td>\n",
       "    </tr>\n",
       "    <tr>\n",
       "      <th>86</th>\n",
       "      <td>mitsubishi</td>\n",
       "      <td>gas</td>\n",
       "      <td>std</td>\n",
       "      <td>four</td>\n",
       "      <td>sedan</td>\n",
       "      <td>fwd</td>\n",
       "      <td>2405.0</td>\n",
       "      <td>front</td>\n",
       "      <td>ohc</td>\n",
       "      <td>four</td>\n",
       "      <td>2bbl</td>\n",
       "      <td>122.0</td>\n",
       "      <td>88.0</td>\n",
       "      <td>5000.0</td>\n",
       "      <td>25.0</td>\n",
       "      <td>32.0</td>\n",
       "      <td>8189.0</td>\n",
       "      <td>8402.270079</td>\n",
       "    </tr>\n",
       "    <tr>\n",
       "      <th>60</th>\n",
       "      <td>mazda</td>\n",
       "      <td>gas</td>\n",
       "      <td>std</td>\n",
       "      <td>four</td>\n",
       "      <td>sedan</td>\n",
       "      <td>fwd</td>\n",
       "      <td>2410.0</td>\n",
       "      <td>front</td>\n",
       "      <td>ohc</td>\n",
       "      <td>four</td>\n",
       "      <td>2bbl</td>\n",
       "      <td>122.0</td>\n",
       "      <td>84.0</td>\n",
       "      <td>4800.0</td>\n",
       "      <td>26.0</td>\n",
       "      <td>32.0</td>\n",
       "      <td>8495.0</td>\n",
       "      <td>11238.955259</td>\n",
       "    </tr>\n",
       "  </tbody>\n",
       "</table>\n",
       "</div>"
      ],
      "text/plain": [
       "           make fuel-type aspiration num-of-doors body-style drive-wheels  \\\n",
       "143      subaru       gas        std         four      sedan          fwd   \n",
       "119    plymouth       gas      turbo          two  hatchback          fwd   \n",
       "180      toyota       gas        std         four      sedan          rwd   \n",
       "92       nissan       gas        std         four      sedan          fwd   \n",
       "86   mitsubishi       gas        std         four      sedan          fwd   \n",
       "60        mazda       gas        std         four      sedan          fwd   \n",
       "\n",
       "     curb-weight engine-location engine-type num-of-cylinders fuel-system  \\\n",
       "143       2340.0           front        ohcf             four        mpfi   \n",
       "119       2128.0           front         ohc             four        spdi   \n",
       "180       3131.0           front        dohc              six        mpfi   \n",
       "92        1938.0           front         ohc             four        2bbl   \n",
       "86        2405.0           front         ohc             four        2bbl   \n",
       "60        2410.0           front         ohc             four        2bbl   \n",
       "\n",
       "     engine-size  horsepower  peak-rpm  city-mpg  highway-mpg   Actual  \\\n",
       "143        108.0        94.0    5200.0      26.0         32.0   9960.0   \n",
       "119         98.0       102.0    5500.0      24.0         30.0   7957.0   \n",
       "180        171.0       156.0    5200.0      20.0         24.0  15690.0   \n",
       "92          97.0        69.0    5200.0      31.0         37.0   6849.0   \n",
       "86         122.0        88.0    5000.0      25.0         32.0   8189.0   \n",
       "60         122.0        84.0    4800.0      26.0         32.0   8495.0   \n",
       "\n",
       "        predicted  \n",
       "143   9818.514585  \n",
       "119   8095.034361  \n",
       "180  17152.117491  \n",
       "92    6212.710142  \n",
       "86    8402.270079  \n",
       "60   11238.955259  "
      ]
     },
     "execution_count": 95,
     "metadata": {},
     "output_type": "execute_result"
    }
   ],
   "source": [
    "compare_df"
   ]
  },
  {
   "cell_type": "code",
   "execution_count": null,
   "metadata": {},
   "outputs": [],
   "source": []
  },
  {
   "cell_type": "code",
   "execution_count": null,
   "metadata": {},
   "outputs": [],
   "source": []
  }
 ],
 "metadata": {
  "kernelspec": {
   "display_name": "Python 3",
   "language": "python",
   "name": "python3"
  },
  "language_info": {
   "codemirror_mode": {
    "name": "ipython",
    "version": 3
   },
   "file_extension": ".py",
   "mimetype": "text/x-python",
   "name": "python",
   "nbconvert_exporter": "python",
   "pygments_lexer": "ipython3",
   "version": "3.6.5"
  }
 },
 "nbformat": 4,
 "nbformat_minor": 2
}
